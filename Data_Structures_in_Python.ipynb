{
  "nbformat": 4,
  "nbformat_minor": 0,
  "metadata": {
    "colab": {
      "provenance": []
    },
    "kernelspec": {
      "name": "python3",
      "display_name": "Python 3"
    },
    "language_info": {
      "name": "python"
    }
  },
  "cells": [
    {
      "cell_type": "markdown",
      "source": [
        "**Question 1**"
      ],
      "metadata": {
        "id": "jmpLRNBqpYkG"
      }
    },
    {
      "cell_type": "code",
      "source": [
        "my_name=\"aryan\" # Defining a variable containing a string\n",
        "my_name[::-1]"
      ],
      "metadata": {
        "colab": {
          "base_uri": "https://localhost:8080/",
          "height": 36
        },
        "id": "b2pDIOsSpbHY",
        "outputId": "172dca54-3edb-454a-ef3f-6e5e12a5a845"
      },
      "execution_count": 20,
      "outputs": [
        {
          "output_type": "execute_result",
          "data": {
            "text/plain": [
              "'nayra'"
            ],
            "application/vnd.google.colaboratory.intrinsic+json": {
              "type": "string"
            }
          },
          "metadata": {},
          "execution_count": 20
        }
      ]
    },
    {
      "cell_type": "markdown",
      "source": [
        "**Question 2**"
      ],
      "metadata": {
        "id": "Xw2HP0o_ehui"
      }
    },
    {
      "cell_type": "code",
      "source": [
        "# Defining a variable containing a string\n",
        "my_string=\"Hello, how many vowels are there in this sentence?\"\n",
        "\n",
        "# Defining a variable containing vowels\n",
        "vowels=\"aeiouAEIOU\"\n",
        "\n",
        "# Initialize a variable to count the number of vowels\n",
        "vowel_count=0\n",
        "\n",
        "for item in my_string:\n",
        "    if item in vowels:\n",
        "      vowel_count=vowel_count+1\n",
        "\n",
        "print(\"Number of vowels in the string:\",vowel_count)\n"
      ],
      "metadata": {
        "colab": {
          "base_uri": "https://localhost:8080/"
        },
        "id": "CFdAsGyxbkz_",
        "outputId": "d6c4b98c-3055-4ca8-a475-4ab146bb604f"
      },
      "execution_count": 21,
      "outputs": [
        {
          "output_type": "stream",
          "name": "stdout",
          "text": [
            "Number of vowels in the string: 15\n"
          ]
        }
      ]
    },
    {
      "cell_type": "markdown",
      "source": [
        "**Question 3**"
      ],
      "metadata": {
        "id": "WbrIdLV3fYt6"
      }
    },
    {
      "cell_type": "code",
      "source": [
        "# Defining a string\n",
        "any_string = \"Able was I ere I saw Elba\"\n",
        "\n",
        "# Remove spaces by replacing them with an empty string\n",
        "no_spaces_string = any_string.replace(\" \", \"\")\n",
        "\n",
        "# Normalize the string by converting it to lowercase\n",
        "normalized_string = no_spaces_string.lower()\n",
        "\n",
        "# To check if the normalized string is equal to its reverse\n",
        "if normalized_string == normalized_string[::-1]:\n",
        "    print(\"Is a palindrome\")\n",
        "else:\n",
        "    print(\"Is not a palindrome\")\n"
      ],
      "metadata": {
        "colab": {
          "base_uri": "https://localhost:8080/"
        },
        "id": "Z28Mqs-8fb-s",
        "outputId": "0c4bb5a4-bd43-4598-c796-7fb7189c6bdc"
      },
      "execution_count": 22,
      "outputs": [
        {
          "output_type": "stream",
          "name": "stdout",
          "text": [
            "Is a palindrome\n"
          ]
        }
      ]
    },
    {
      "cell_type": "markdown",
      "source": [
        "**Question 4**"
      ],
      "metadata": {
        "id": "Bdn5iFqHN9gs"
      }
    },
    {
      "cell_type": "code",
      "source": [
        "# Defining two strings\n",
        "string1 = \"listen\"\n",
        "string2 = \"silent\"\n",
        "\n",
        "# Check if the sorted versions of both strings are the same\n",
        "if sorted(string1) == sorted(string2):\n",
        "    print(\"The strings are anagrams.\")\n",
        "else:\n",
        "    print(\"The strings are not anagrams.\")\n"
      ],
      "metadata": {
        "colab": {
          "base_uri": "https://localhost:8080/"
        },
        "id": "ewFBQ02vNd0N",
        "outputId": "471dfe68-88be-4c20-e712-fa0fad47dac5"
      },
      "execution_count": 23,
      "outputs": [
        {
          "output_type": "stream",
          "name": "stdout",
          "text": [
            "The strings are anagrams.\n"
          ]
        }
      ]
    },
    {
      "cell_type": "markdown",
      "source": [
        "**Question 5**"
      ],
      "metadata": {
        "id": "E9Isn6BcOBEi"
      }
    },
    {
      "cell_type": "code",
      "source": [
        "# Define the main string and the substring\n",
        "main_string = \"This is an example. This is a test example.\"\n",
        "substring = \"is\"\n",
        "\n",
        "# Find all occurrences of the substring\n",
        "index = main_string.find(substring) # using find() method\n",
        "while index != -1:\n",
        "    print(f\"Found at index: {index}\")\n",
        "    index = main_string.find(substring, index + 1)"
      ],
      "metadata": {
        "colab": {
          "base_uri": "https://localhost:8080/"
        },
        "id": "dAH-92mUOC4E",
        "outputId": "4f000ebc-9b09-438f-d5cb-717e18fb683c"
      },
      "execution_count": 24,
      "outputs": [
        {
          "output_type": "stream",
          "name": "stdout",
          "text": [
            "Found at index: 2\n",
            "Found at index: 5\n",
            "Found at index: 22\n",
            "Found at index: 25\n"
          ]
        }
      ]
    },
    {
      "cell_type": "markdown",
      "source": [
        "**Question 6**"
      ],
      "metadata": {
        "id": "-7hqRY60l2rE"
      }
    },
    {
      "cell_type": "code",
      "source": [
        "# Input: Asking the user for a string\n",
        "input_str = input(\"Enter a string to compress: \")\n",
        "\n",
        "# Initialize variables\n",
        "compressed_str = \"\"\n",
        "count = 1\n",
        "\n",
        "# Iterate through the string\n",
        "for i in range(1, len(input_str)):\n",
        "    if input_str[i] == input_str[i - 1]:\n",
        "        count += 1  # Increment count if current and previous characters are the same\n",
        "    else:\n",
        "        compressed_str += input_str[i - 1] + str(count)  # Add the character and its count\n",
        "        count = 1  # Reset the count\n",
        "\n",
        "# Add the last character and its count\n",
        "compressed_str += input_str[-1] + str(count)\n",
        "\n",
        "# Output the compressed string\n",
        "print(\"Compressed string:\", compressed_str)"
      ],
      "metadata": {
        "id": "FM2cPfOzl32s",
        "colab": {
          "base_uri": "https://localhost:8080/"
        },
        "outputId": "29a06f28-69fc-4279-8bcd-eaad6815c316"
      },
      "execution_count": 19,
      "outputs": [
        {
          "output_type": "stream",
          "name": "stdout",
          "text": [
            "Enter a string to compress: aabbcddeeeffffff\n",
            "Compressed string: a2b2c1d2e3f6\n"
          ]
        }
      ]
    },
    {
      "cell_type": "markdown",
      "source": [
        "**Question 7**"
      ],
      "metadata": {
        "id": "UaS4oh13HJxg"
      }
    },
    {
      "cell_type": "code",
      "source": [
        "# Read the input string from the user\n",
        "input_string = input(\"Enter a string to check for unique characters:\")\n",
        "\n",
        "# Convert the string to a set and compare its length to the original string\n",
        "if len(set(input_string)) == len(input_string):\n",
        "    print(\"The string has all unique characters.\")\n",
        "else:\n",
        "    print(\"The string does not have all unique characters.\")\n"
      ],
      "metadata": {
        "colab": {
          "base_uri": "https://localhost:8080/"
        },
        "id": "DTm0qPHyHIlZ",
        "outputId": "73c30ae2-18d7-4899-8c04-3c8c76114ed8"
      },
      "execution_count": 25,
      "outputs": [
        {
          "output_type": "stream",
          "name": "stdout",
          "text": [
            "Enter a string to check for unique characters:My name is aryan\n",
            "The string does not have all unique characters.\n"
          ]
        }
      ]
    },
    {
      "cell_type": "markdown",
      "source": [
        "**Question 8**"
      ],
      "metadata": {
        "id": "jZOIyzaFq-kp"
      }
    },
    {
      "cell_type": "code",
      "source": [
        "my_string=\"my name is aryan and i am loving pwskills\" # assigning a string\n",
        "my_string.upper() # converting to upper case"
      ],
      "metadata": {
        "colab": {
          "base_uri": "https://localhost:8080/",
          "height": 36
        },
        "id": "HtPpKxMMrA4e",
        "outputId": "aaac2b27-ebb1-434e-c3cf-e98b12ad523d"
      },
      "execution_count": 26,
      "outputs": [
        {
          "output_type": "execute_result",
          "data": {
            "text/plain": [
              "'MY NAME IS ARYAN AND I AM LOVING PWSKILLS'"
            ],
            "application/vnd.google.colaboratory.intrinsic+json": {
              "type": "string"
            }
          },
          "metadata": {},
          "execution_count": 26
        }
      ]
    },
    {
      "cell_type": "markdown",
      "source": [
        "**Question 9**"
      ],
      "metadata": {
        "id": "PPUDqsQBsHTn"
      }
    },
    {
      "cell_type": "code",
      "source": [
        "my_string= \"I am very happy\"\n",
        "len(my_string)"
      ],
      "metadata": {
        "colab": {
          "base_uri": "https://localhost:8080/"
        },
        "id": "9ogM9NOPsKBf",
        "outputId": "7d1928d5-7bb5-4f13-dba0-b90bc531264e"
      },
      "execution_count": 28,
      "outputs": [
        {
          "output_type": "execute_result",
          "data": {
            "text/plain": [
              "15"
            ]
          },
          "metadata": {},
          "execution_count": 28
        }
      ]
    },
    {
      "cell_type": "markdown",
      "source": [
        "**Question 10**"
      ],
      "metadata": {
        "id": "jxJ2Wibo06cP"
      }
    },
    {
      "cell_type": "code",
      "source": [
        "str1 = \"Hello\"\n",
        "str2 = \"World\"\n",
        "\n",
        "# Way 1 - used f-strings\n",
        "result1 = f\"{str1} {str2}\"\n",
        "print(result1)\n",
        "\n",
        "# Way 2 - used join()\n",
        "result2 = \" \".join([str1, str2])\n",
        "print(result2)  # Output: Hello World\n"
      ],
      "metadata": {
        "colab": {
          "base_uri": "https://localhost:8080/"
        },
        "id": "KDV6MQLE0-hb",
        "outputId": "f9fcf523-cc09-4d1c-8d99-79a90844a64f"
      },
      "execution_count": 29,
      "outputs": [
        {
          "output_type": "stream",
          "name": "stdout",
          "text": [
            "Hello World\n",
            "Hello World\n"
          ]
        }
      ]
    },
    {
      "cell_type": "markdown",
      "source": [
        "**Question 11**"
      ],
      "metadata": {
        "id": "BPRcZV3MA7f4"
      }
    },
    {
      "cell_type": "code",
      "source": [
        "list_num = [1, 2, 4, 4, 7, 4, 8, 3, 4, 5, 6, 9, 0]  # A list containing random numbers\n",
        "new_list = []\n",
        "\n",
        "for item in list_num:\n",
        "    if item != 4:  # Only add items that are not 4\n",
        "        new_list.append(item)\n",
        "\n",
        "print(new_list)\n"
      ],
      "metadata": {
        "colab": {
          "base_uri": "https://localhost:8080/"
        },
        "id": "KcgZGTZxA-Ix",
        "outputId": "35bffc89-4110-4f88-e176-dd5c920435d2"
      },
      "execution_count": 30,
      "outputs": [
        {
          "output_type": "stream",
          "name": "stdout",
          "text": [
            "[1, 2, 7, 8, 3, 5, 6, 9, 0]\n"
          ]
        }
      ]
    },
    {
      "cell_type": "markdown",
      "source": [
        "**Question 12**"
      ],
      "metadata": {
        "id": "yDQLiyWDA_MG"
      }
    },
    {
      "cell_type": "code",
      "source": [
        "# Defining a list containing integers\n",
        "given_list=[73, 92, 57,91,43,24,48,53,78]\n",
        "\n",
        "# First: I will sort the list in descending order\n",
        "sorted_list=sorted(given_list,reverse=True)\n",
        "\n",
        "# Second: I will access the element at 1 index because after sorting the largest number will come to 0 index and second largest number will come to 1 index\n",
        "Second_highest_value=sorted_list[1]\n",
        "\n",
        "print(Second_highest_value)"
      ],
      "metadata": {
        "id": "jPlDSB_dA-aJ",
        "colab": {
          "base_uri": "https://localhost:8080/"
        },
        "outputId": "638fd3a7-58f0-4a5b-fac4-c8e71a5483fe"
      },
      "execution_count": 31,
      "outputs": [
        {
          "output_type": "stream",
          "name": "stdout",
          "text": [
            "91\n"
          ]
        }
      ]
    },
    {
      "cell_type": "markdown",
      "source": [
        "**Question 13**"
      ],
      "metadata": {
        "id": "v2RFWKZLIl4E"
      }
    },
    {
      "cell_type": "code",
      "source": [
        "# Defining a list\n",
        "names = [\n",
        "    \"Emily\", \"Sophia\", \"Olivia\", \"Emily\", \"Ava\",\n",
        "    \"Sophia\", \"Mia\", \"Isabella\", \"Ava\", \"Charlotte\",\n",
        "    \"Amelia\", \"Mia\", \"Olivia\", \"Isabella\", \"Sophia\",\n",
        "    \"Charlotte\", \"Amelia\", \"Emily\", \"Ava\", \"Mia\"\n",
        "]\n",
        "\n",
        "result_dict = {}  # Initialize an empty dictionary\n",
        "\n",
        "for item in names:\n",
        "    if item not in result_dict:\n",
        "        # Count occurrences only if the item is not already in the dictionary\n",
        "        result_dict[item] = names.count(item)\n",
        "\n",
        "print(result_dict)\n"
      ],
      "metadata": {
        "colab": {
          "base_uri": "https://localhost:8080/"
        },
        "id": "jYamnaaQIpDx",
        "outputId": "a69f6f2d-0b97-4f66-acd5-511ab4cb5b8c"
      },
      "execution_count": 32,
      "outputs": [
        {
          "output_type": "stream",
          "name": "stdout",
          "text": [
            "{'Emily': 3, 'Sophia': 3, 'Olivia': 2, 'Ava': 3, 'Mia': 3, 'Isabella': 2, 'Charlotte': 2, 'Amelia': 2}\n"
          ]
        }
      ]
    },
    {
      "cell_type": "markdown",
      "source": [
        "**Question 14**"
      ],
      "metadata": {
        "id": "4V0pf-UQVcc3"
      }
    },
    {
      "cell_type": "code",
      "source": [
        "my_fruits = ['apple', 'banana', 'cherry', 'kiwi', 'avocado', 'muskmelon']\n",
        "\n",
        "# Reversing the list in-place without using built-in reverse functions\n",
        "start = 0\n",
        "end = len(my_fruits) - 1\n",
        "\n",
        "while start < end:\n",
        "    my_fruits[start], my_fruits[end] = my_fruits[end], my_fruits[start]\n",
        "    start += 1\n",
        "    end -= 1\n",
        "\n",
        "print(my_fruits)\n"
      ],
      "metadata": {
        "colab": {
          "base_uri": "https://localhost:8080/"
        },
        "id": "RCqT8TP8Ug_Q",
        "outputId": "6dea27e4-f9c5-4eda-b82a-db77892e1b45"
      },
      "execution_count": 33,
      "outputs": [
        {
          "output_type": "stream",
          "name": "stdout",
          "text": [
            "['muskmelon', 'avocado', 'kiwi', 'cherry', 'banana', 'apple']\n"
          ]
        }
      ]
    },
    {
      "cell_type": "markdown",
      "source": [
        "**Question 15**"
      ],
      "metadata": {
        "id": "N8kGZqexMC5y"
      }
    },
    {
      "cell_type": "code",
      "source": [
        "# Define a list with duplicates\n",
        "my_list = [1, 2, 2, 3, 4, 4, 5, 6, 1, 7]\n",
        "\n",
        "# Initialize an empty list to store unique elements\n",
        "unique_list = []\n",
        "\n",
        "# Loop through each element in the original list\n",
        "for item in my_list:\n",
        "\n",
        "    # Add the item to unique_list if it's not already present\n",
        "    if item not in unique_list:\n",
        "        unique_list.append(item)\n",
        "\n",
        "# Print the list with duplicates removed, while keeping the original order\n",
        "print(unique_list)\n"
      ],
      "metadata": {
        "colab": {
          "base_uri": "https://localhost:8080/"
        },
        "id": "_flXkgTBMBkI",
        "outputId": "723cdb4a-a3f6-439d-aed2-e9da78d0ae24"
      },
      "execution_count": 34,
      "outputs": [
        {
          "output_type": "stream",
          "name": "stdout",
          "text": [
            "[1, 2, 3, 4, 5, 6, 7]\n"
          ]
        }
      ]
    },
    {
      "cell_type": "markdown",
      "source": [
        "**Question 16**"
      ],
      "metadata": {
        "id": "hcwGRCHJtguF"
      }
    },
    {
      "cell_type": "code",
      "source": [
        "num = [3, 9, 10, 18, 3, 15, 12, 29, 144]\n",
        "sorted_num_asc = sorted(num)\n",
        "sorted_num_desc = sorted(num, reverse=True)\n",
        "\n",
        "if num == sorted_num_asc:\n",
        "    print(\"list is sorted in ascending order\")\n",
        "elif num == sorted_num_desc:\n",
        "    print(\"list is sorted in descending order\")\n",
        "else:\n",
        "    print(\"list is not sorted\")\n"
      ],
      "metadata": {
        "colab": {
          "base_uri": "https://localhost:8080/"
        },
        "id": "-BnRjJiVtgJ2",
        "outputId": "eb092fc5-8f92-4560-cf42-6788dcd26189"
      },
      "execution_count": 35,
      "outputs": [
        {
          "output_type": "stream",
          "name": "stdout",
          "text": [
            "list is not sorted\n"
          ]
        }
      ]
    },
    {
      "cell_type": "markdown",
      "source": [
        "**Question 17**"
      ],
      "metadata": {
        "id": "An_eiXW95kks"
      }
    },
    {
      "cell_type": "code",
      "source": [
        "list1=[1, 3, 5, 7, 9]\n",
        "list2=[2, 4, 6, 8, 10]\n",
        "list3=sorted(list1+list2)\n",
        "print(list3)\n"
      ],
      "metadata": {
        "colab": {
          "base_uri": "https://localhost:8080/"
        },
        "id": "SdhvPI4L4u2I",
        "outputId": "9c0ed7e6-ff96-4c66-bee6-176c31e5b455"
      },
      "execution_count": 36,
      "outputs": [
        {
          "output_type": "stream",
          "name": "stdout",
          "text": [
            "[1, 2, 3, 4, 5, 6, 7, 8, 9, 10]\n"
          ]
        }
      ]
    },
    {
      "cell_type": "markdown",
      "source": [
        "**Question 18**"
      ],
      "metadata": {
        "id": "R8TGDXqKwduf"
      }
    },
    {
      "cell_type": "code",
      "source": [
        "# Defining two lists\n",
        "list1 = [1, 2, 3, 4, 5]\n",
        "list2 = [4, 5, 6, 7, 8]\n",
        "\n",
        "intersection = list(set(list1) & set(list2)) # & is used for intersection\n",
        "print(intersection)\n"
      ],
      "metadata": {
        "colab": {
          "base_uri": "https://localhost:8080/"
        },
        "id": "RqUe6jiSwhXw",
        "outputId": "7a9763c3-f093-483b-b953-3a2320f1a22e"
      },
      "execution_count": 38,
      "outputs": [
        {
          "output_type": "stream",
          "name": "stdout",
          "text": [
            "[4, 5]\n"
          ]
        }
      ]
    },
    {
      "cell_type": "markdown",
      "source": [
        "**Question 19**"
      ],
      "metadata": {
        "id": "Lm00bF47xunf"
      }
    },
    {
      "cell_type": "code",
      "source": [
        "list1 = [1, 2, 3, 4, 5]\n",
        "list2 = [4, 5, 6, 7, 8]\n",
        "\n",
        "# Find union without duplicates\n",
        "union = list(set(list1) | set(list2))\n",
        "print(union)\n"
      ],
      "metadata": {
        "colab": {
          "base_uri": "https://localhost:8080/"
        },
        "id": "YEU7LbHRx0Vd",
        "outputId": "33218048-4a09-44dd-d97c-ab9ebbd2a70f"
      },
      "execution_count": null,
      "outputs": [
        {
          "output_type": "stream",
          "name": "stdout",
          "text": [
            "[1, 2, 3, 4, 5, 6, 7, 8]\n"
          ]
        }
      ]
    },
    {
      "cell_type": "markdown",
      "source": [
        "**Question 20**"
      ],
      "metadata": {
        "id": "MArYfKloly45"
      }
    },
    {
      "cell_type": "code",
      "source": [
        "# Input: A list of numbers from 1 to 10\n",
        "input_list = [1, 2, 3, 4, 5, 6, 7, 8, 9, 10]\n",
        "\n",
        "# Get the length of the list\n",
        "n = len(input_list)\n",
        "\n",
        "# Shuffle the list using Fisher-Yates algorithm\n",
        "for i in range(n-1, 0, -1):\n",
        "    # Generate a pseudo-random index between 0 and i\n",
        "    j = int((i + 1) * (hash(str(i)) % 100) / 100) % (i + 1)\n",
        "    # Swap elements at indices i and j\n",
        "    input_list[i], input_list[j] = input_list[j], input_list[i]\n",
        "\n",
        "# Print the shuffled list\n",
        "print(input_list)"
      ],
      "metadata": {
        "id": "Vk6V8cABl0UN",
        "colab": {
          "base_uri": "https://localhost:8080/"
        },
        "outputId": "7a7bd9b1-aab7-4ce5-da24-fe6b5e0cca7a"
      },
      "execution_count": 39,
      "outputs": [
        {
          "output_type": "stream",
          "name": "stdout",
          "text": [
            "[8, 4, 9, 1, 7, 6, 5, 10, 3, 2]\n"
          ]
        }
      ]
    },
    {
      "cell_type": "markdown",
      "source": [
        "**Question 21**"
      ],
      "metadata": {
        "id": "OSi40OWOHOxL"
      }
    },
    {
      "cell_type": "code",
      "source": [
        "# Read input from the user\n",
        "input_str_1=input(\"Enter elements separated by comma:\")\n",
        "input_str_2=input(\"Enter elements separated by comma:\")\n",
        "\n",
        "# Split the string into a list of elements\n",
        "convert_tuple_1= tuple(input_str_1.split(\",\"))\n",
        "convert_tuple_2 = tuple(input_str_2.split(\",\"))\n",
        "\n",
        "# Convert the tuple to a set\n",
        "convert_set_1 = set(convert_tuple_1)\n",
        "convert_set_2 = set(convert_tuple_2)\n",
        "\n",
        "# Find the intersection of the two sets\n",
        "intersection_set=convert_set_1 & convert_set_2\n",
        "\n",
        "# Convert the list to a tuple\n",
        "intersection_tuple=tuple(intersection_set)\n",
        "\n",
        "# Print the intersection\n",
        "print(\"The tuple containing common element(s):\", intersection_tuple)"
      ],
      "metadata": {
        "colab": {
          "base_uri": "https://localhost:8080/"
        },
        "id": "aspyLES8YnBg",
        "outputId": "66359039-6edc-454a-cdb1-4a6e59803daa"
      },
      "execution_count": null,
      "outputs": [
        {
          "output_type": "stream",
          "name": "stdout",
          "text": [
            "Enter elements separated by comma:pineapple,kiwi,grapes,apple,muskmelon\n",
            "Enter elements separated by comma:muskmelon,kiwi,banana,avocado\n",
            "The tuple containing common element(s): ('kiwi', 'muskmelon')\n"
          ]
        }
      ]
    },
    {
      "cell_type": "markdown",
      "source": [
        "**Question 22**"
      ],
      "metadata": {
        "id": "DsyQWIxLCvb9"
      }
    },
    {
      "cell_type": "code",
      "source": [
        "# Prompt the user to enter the first set of integers\n",
        "input_string1 = input(\"Enter the first set of integers (separated by commas): \")\n",
        "\n",
        "# Convert the input string to a set of integers\n",
        "set1 = set(map(int, input_string1.split(',')))\n",
        "\n",
        "# Prompt the user to enter the second set of integers\n",
        "input_string2 = input(\"Enter the second set of integers (separated by commas): \")\n",
        "\n",
        "# Convert the input string to a set of integers\n",
        "set2 = set(map(int, input_string2.split(',')))\n",
        "\n",
        "# Calculate the intersection of the two sets\n",
        "intersection = set1 & set2\n",
        "\n",
        "# Print the intersection\n",
        "print(\"Intersection of the two sets:\", intersection)"
      ],
      "metadata": {
        "id": "kpb6PXKnC0Ec",
        "colab": {
          "base_uri": "https://localhost:8080/"
        },
        "outputId": "ff570f8f-4f62-4973-da68-0a96b9a2becc"
      },
      "execution_count": 40,
      "outputs": [
        {
          "output_type": "stream",
          "name": "stdout",
          "text": [
            "Enter the first set of integers (separated by commas): 1,2,3,4,5,6,7\n",
            "Enter the second set of integers (separated by commas): 5,6,7,8,9,10\n",
            "Intersection of the two sets: {5, 6, 7}\n"
          ]
        }
      ]
    },
    {
      "cell_type": "markdown",
      "source": [
        "**Question 23**"
      ],
      "metadata": {
        "id": "RB8zNReYK1mz"
      }
    },
    {
      "cell_type": "code",
      "source": [
        "# Read input from the user\n",
        "input_str_1 = input(\"Enter elements separated by space:\")\n",
        "input_str_2 = input(\"Enter elements separated by space:\")\n",
        "\n",
        "# Split the string into a list of elements\n",
        "convert_tuple_1= tuple(input_str_1.split())\n",
        "convert_tuple_2 = tuple(input_str_2.split())\n",
        "\n",
        "# Concatenating two tuples\n",
        "result_tuple=convert_tuple_1+convert_tuple_2\n",
        "print(result_tuple)"
      ],
      "metadata": {
        "colab": {
          "base_uri": "https://localhost:8080/"
        },
        "id": "hZHTb0ElHcOD",
        "outputId": "c37ee05a-e94a-4918-9f0a-fa4049e1e324"
      },
      "execution_count": null,
      "outputs": [
        {
          "output_type": "stream",
          "name": "stdout",
          "text": [
            "Enter elements separated by space:apple banana cherry \n",
            "Enter elements separated by space:kiwi avocado muskmelon\n",
            "('apple', 'banana', 'cherry', 'kiwi', 'avocado', 'muskmelon')\n"
          ]
        }
      ]
    },
    {
      "cell_type": "markdown",
      "source": [
        "**Question 24**"
      ],
      "metadata": {
        "id": "cFiT5SvzwKFs"
      }
    },
    {
      "cell_type": "code",
      "source": [
        "# Read input from the user\n",
        "input_str_1 = input(\"Enter elements separated by space:\")\n",
        "input_str_2 = input(\"Enter elements separated by space:\")\n",
        "\n",
        "# Split the string into a list of elements and convert to sets\n",
        "convert_set_1=set(input_str_1.split())\n",
        "convert_set_2=set(input_str_2.split())\n",
        "\n",
        "# Elements that are present in the first set but not in the second set\n",
        "elements_in_first_not_in_second = convert_set_1-convert_set_2\n",
        "print(elements_in_first_not_in_second)"
      ],
      "metadata": {
        "colab": {
          "base_uri": "https://localhost:8080/"
        },
        "id": "PVhCBzNasY4T",
        "outputId": "23a53b4f-1c76-4503-c987-530eb59f8cb8"
      },
      "execution_count": null,
      "outputs": [
        {
          "output_type": "stream",
          "name": "stdout",
          "text": [
            "Enter elements separated by space:1 2 3 4 5 6 7\n",
            "Enter elements separated by space:6 7 8 9 10\n",
            "{'1', '4', '5', '3', '2'}\n"
          ]
        }
      ]
    },
    {
      "cell_type": "markdown",
      "source": [
        "**Question 25**"
      ],
      "metadata": {
        "id": "EhzQ873d64mG"
      }
    },
    {
      "cell_type": "code",
      "source": [
        "# Read input from the user\n",
        "input_str_1 = input(\"Enter elements of the tuple separated by space:\")\n",
        "input_str_2 = int(input(\"Enter first index of range: \"))\n",
        "input_str_3 = int(input(\"Enter second index of range: \"))\n",
        "\n",
        "# Convert the input string to a tuple\n",
        "convert_tuple_1 = tuple(input_str_1.split())\n",
        "\n",
        "# Slicing the tuple using the specified range of indices\n",
        "result_tuple = convert_tuple_1[input_str_2:input_str_3]\n",
        "\n",
        "# Print the result\n",
        "print(result_tuple)"
      ],
      "metadata": {
        "colab": {
          "base_uri": "https://localhost:8080/"
        },
        "id": "7cJHxjsMyrhe",
        "outputId": "1d9ae053-6820-4c7e-f290-4bee4fc891d1"
      },
      "execution_count": null,
      "outputs": [
        {
          "output_type": "stream",
          "name": "stdout",
          "text": [
            "Enter elements of the tuple separated by space:apple banana kiwi avocado muskmelon watermelon pineapple\n",
            "Enter first index of range: 4\n",
            "Enter second index of range: 6\n",
            "('muskmelon', 'watermelon')\n"
          ]
        }
      ]
    },
    {
      "cell_type": "markdown",
      "source": [
        "**Question 26**"
      ],
      "metadata": {
        "id": "NhstkxZ6yL9W"
      }
    },
    {
      "cell_type": "code",
      "source": [
        "# Read input from the user\n",
        "input_str_1 = input(\"Enter elements separated by space:\")\n",
        "input_str_2 = input(\"Enter elements separated by space:\")\n",
        "\n",
        "# Split the string into a list of elements and convert to sets\n",
        "convert_set_1=set(input_str_1.split())\n",
        "convert_set_2=set(input_str_2.split())\n",
        "\n",
        "# Taking union of both sets\n",
        "union_set=convert_set_1|convert_set_2\n",
        "print(union_set)"
      ],
      "metadata": {
        "colab": {
          "base_uri": "https://localhost:8080/"
        },
        "id": "6MZv84y3wQPG",
        "outputId": "f4e746be-25da-4c04-f638-56ce1b7cda9c"
      },
      "execution_count": null,
      "outputs": [
        {
          "output_type": "stream",
          "name": "stdout",
          "text": [
            "Enter elements separated by space:1 2 3 4 5\n",
            "Enter elements separated by space:4 5 6 7 8 9\n",
            "{'1', '4', '7', '5', '3', '8', '9', '6', '2'}\n"
          ]
        }
      ]
    },
    {
      "cell_type": "markdown",
      "source": [
        "**Question 27**"
      ],
      "metadata": {
        "id": "EKZpd_l7WPAO"
      }
    },
    {
      "cell_type": "code",
      "source": [
        "# Taking input from the user\n",
        "input_str = input(\"Enter the integers (separated by space): \")\n",
        "\n",
        "# Convert the input string to a tuple of integers\n",
        "convert_tuple = tuple(map(int, input_str.split()))\n",
        "\n",
        "# Define max and min values using tuple unpacking\n",
        "maximum_value, minimum_value = max(convert_tuple), min(convert_tuple)\n",
        "\n",
        "# Print the max and min values\n",
        "print(f\"'{maximum_value}' is the maximum value.\")\n",
        "print(f\"'{minimum_value}' is the minimum value.\")"
      ],
      "metadata": {
        "colab": {
          "base_uri": "https://localhost:8080/"
        },
        "id": "U0eqSEH8TWM9",
        "outputId": "3df39ceb-c2f2-492f-c011-58bc2c8edc33"
      },
      "execution_count": null,
      "outputs": [
        {
          "output_type": "stream",
          "name": "stdout",
          "text": [
            "Enter the integers (separated by space): 64 72 82 52 81 28 98 28 64 94\n",
            "'98' is the maximum value.\n",
            "'28' is the minimum value.\n"
          ]
        }
      ]
    },
    {
      "cell_type": "markdown",
      "source": [
        "**Question 28**"
      ],
      "metadata": {
        "id": "RQSw9us_ytHM"
      }
    },
    {
      "cell_type": "code",
      "source": [
        "set1 = {1, 2, 3, 4, 5}\n",
        "set2 = {4, 5, 6, 7, 8}\n",
        "\n",
        "# Union of two sets\n",
        "union = set1|set2\n",
        "print(union)\n",
        "\n",
        "# Intersection of two sets\n",
        "intersection = set1 & set2\n",
        "print(intersection)\n",
        "\n",
        "# Difference between two sets\n",
        "difference = set1 - set2\n",
        "print(difference)\n",
        "\n",
        "# Symmetric difference between two sets\n",
        "symmetric_difference = set1 ^ set2\n",
        "print(symmetric_difference)\n"
      ],
      "metadata": {
        "colab": {
          "base_uri": "https://localhost:8080/"
        },
        "id": "REmugM6uywZs",
        "outputId": "06cc553b-38f6-46fc-e41d-25d1ba895a66"
      },
      "execution_count": null,
      "outputs": [
        {
          "output_type": "stream",
          "name": "stdout",
          "text": [
            "{1, 2, 3, 4, 5, 6, 7, 8}\n",
            "{4, 5}\n",
            "{1, 2, 3}\n",
            "{1, 2, 3, 6, 7, 8}\n"
          ]
        }
      ]
    },
    {
      "cell_type": "markdown",
      "source": [
        "**Question 29**"
      ],
      "metadata": {
        "id": "ZEEzwBYPPmPr"
      }
    },
    {
      "cell_type": "code",
      "source": [
        "input_str = input(\"Enter elements of the tuple (separated by space):\")\n",
        "input_element = input(\"Enter the element to count:\")\n",
        "\n",
        "# Split the input string into a tuple of elements\n",
        "convert_tuple = tuple(input_str.split())\n",
        "\n",
        "# Count the occurrences of the element in the list\n",
        "count = convert_tuple.count(input_element)\n",
        "\n",
        "# Print the count\n",
        "print(f\"The element '{input_element}' appears {count} times in the tuple.\")"
      ],
      "metadata": {
        "colab": {
          "base_uri": "https://localhost:8080/"
        },
        "id": "ePblaKs4LnrX",
        "outputId": "61e1a17c-9882-4aa3-ad6e-51bdc00fa2e8"
      },
      "execution_count": null,
      "outputs": [
        {
          "output_type": "stream",
          "name": "stdout",
          "text": [
            "Enter elements of the tuple (separated by space):grape kiwi apple banana cherry grape avocado banana muskmelon grape\n",
            "Enter the element to count:grape\n",
            "The element 'grape' appears 3 times in the tuple.\n"
          ]
        }
      ]
    },
    {
      "cell_type": "markdown",
      "source": [
        "**Question 30**"
      ],
      "metadata": {
        "id": "QY1L80kKP0ZM"
      }
    },
    {
      "cell_type": "code",
      "source": [
        "# Prompt the user to enter the set of elements\n",
        "input_str_1 = input(\"Enter the first set of elements (separated by space):\")\n",
        "input_str_2 = input(\"Enter the second set of elements (separated by space):\")\n",
        "\n",
        "# Convert the input strings to sets\n",
        "convert_Set_1=set(input_str_1.split())\n",
        "convert_Set_2=set(input_str_2.split())\n",
        "\n",
        "# To find the symmetric difference the two sets\n",
        "symmetric_difference=convert_Set_1^convert_Set_2\n",
        "print(symmetric_difference)"
      ],
      "metadata": {
        "colab": {
          "base_uri": "https://localhost:8080/"
        },
        "id": "8iwNVwQOP4Ar",
        "outputId": "e51a5fcd-2ce4-405c-d841-961824c3f48f"
      },
      "execution_count": null,
      "outputs": [
        {
          "output_type": "stream",
          "name": "stdout",
          "text": [
            "Enter the first set of elements (separated by space):aryan ajay lisa jasmine lora\n",
            "Enter the second set of elements (separated by space):jasmine daisy honey stella\n",
            "{'lisa', 'ajay', 'honey', 'lora', 'stella', 'daisy', 'aryan'}\n"
          ]
        }
      ]
    },
    {
      "cell_type": "markdown",
      "source": [
        "**Question 31**"
      ],
      "metadata": {
        "id": "RcJdUZ-edZXS"
      }
    },
    {
      "cell_type": "code",
      "source": [
        "# Asking user for the input\n",
        "input_str_1 = input(\"Enter the list of mobile brands (separated by space):\")\n",
        "\n",
        "# Splitting the input string into a list of elements\n",
        "my_list = input_str_1.split()\n",
        "\n",
        "# Creating a dictionary to store the frequency of each element\n",
        "my_dict = {}\n",
        "\n",
        "# Creating a set to keep track of already processed items\n",
        "processed_items = set()\n",
        "\n",
        "# Counting the frequency of each element\n",
        "for item in my_list:\n",
        "    if item not in processed_items:\n",
        "        frequency = my_list.count(item)\n",
        "        my_dict[item] = frequency\n",
        "        processed_items.add(item)\n",
        "\n",
        "print(my_dict)"
      ],
      "metadata": {
        "colab": {
          "base_uri": "https://localhost:8080/"
        },
        "id": "7MB0CyuPdoJa",
        "outputId": "0296dcb5-d376-4f8f-8b58-0f63b653060c"
      },
      "execution_count": null,
      "outputs": [
        {
          "output_type": "stream",
          "name": "stdout",
          "text": [
            "Enter the list of mobile brands (separated by space):Apple Samsung Google OnePlus Apple Xiaomi Samsung Huawei Google OnePlus Sony Apple Xiaomi Huawei Samsung Google\n",
            "{'Apple': 3, 'Samsung': 3, 'Google': 3, 'OnePlus': 2, 'Xiaomi': 2, 'Huawei': 2, 'Sony': 1}\n"
          ]
        }
      ]
    },
    {
      "cell_type": "markdown",
      "source": [
        "**Question 32**"
      ],
      "metadata": {
        "id": "vnXTEKTHdbCD"
      }
    },
    {
      "cell_type": "code",
      "source": [
        "# Taking input for the first dictionary without any extra symbols\n",
        "input_str_1 = input(\"Enter the first dictionary (e.g., a: 1, b: 2): \")\n",
        "input_str_2 = input(\"Enter the second dictionary (e.g., c: 3, d: 4): \")\n",
        "\n",
        "# Converting the input string to a dictionary\n",
        "dict_1 = {}\n",
        "for pair in input_str_1.split(','):\n",
        "    key, value = pair.split(':')\n",
        "    dict_1[key.strip()] = int(value.strip())\n",
        "\n",
        "dict_2 = {}\n",
        "for pair in input_str_2.split(','):\n",
        "    key, value = pair.split(':')\n",
        "    dict_2[key.strip()] = int(value.strip())\n",
        "\n",
        "# Merging the two dictionaries\n",
        "merged_dict = dict_1.copy()  # Create a copy of the first dictionary\n",
        "for key, value in dict_2.items():\n",
        "    merged_dict[key] = merged_dict.get(key, 0) + value  # Add values for common keys or insert new ones\n",
        "\n",
        "# Printing the merged dictionary\n",
        "print(\"Merged dictionary:\", merged_dict)"
      ],
      "metadata": {
        "id": "C3JvTB6kdoja",
        "colab": {
          "base_uri": "https://localhost:8080/"
        },
        "outputId": "fef6b8a3-e753-484c-f8b3-b5b7c71fa21f"
      },
      "execution_count": null,
      "outputs": [
        {
          "output_type": "stream",
          "name": "stdout",
          "text": [
            "Enter the first dictionary (e.g., a: 1, b: 2): science: 90, math: 85\n",
            "Enter the second dictionary (e.g., c: 3, d: 4): science: 95, history: 80\n",
            "Merged dictionary: {'science': 185, 'math': 85, 'history': 80}\n"
          ]
        }
      ]
    },
    {
      "cell_type": "markdown",
      "source": [
        "**Question 33**"
      ],
      "metadata": {
        "id": "sRoIZSE4deFj"
      }
    },
    {
      "cell_type": "code",
      "source": [
        "# Input: Nested dictionary\n",
        "nested_dict = {\n",
        "    'alice': {'favorite_color': 'blue', 'age': 30},\n",
        "    'bob': {'favorite_color': 'green', 'age': 25}\n",
        "}\n",
        "\n",
        "# Input: Keys as a list (you can change this)\n",
        "keys = input(\"Enter the list of keys separated by space:\").split()\n",
        "\n",
        "# Traverse through the dictionary using the keys\n",
        "current_value = nested_dict\n",
        "\n",
        "for key in keys:\n",
        "    if key in current_value:\n",
        "        current_value = current_value[key]  # Go deeper in the nested dictionary\n",
        "    else:\n",
        "        current_value = None  # Return None if key is not found\n",
        "        break\n",
        "\n",
        "print(current_value)"
      ],
      "metadata": {
        "id": "RD05MiQMdpHK",
        "colab": {
          "base_uri": "https://localhost:8080/"
        },
        "outputId": "c67d0d1f-1aac-49b0-8abc-2d5269974967"
      },
      "execution_count": 17,
      "outputs": [
        {
          "output_type": "stream",
          "name": "stdout",
          "text": [
            "Enter the list of keys separated by space:bob age\n",
            "25\n"
          ]
        }
      ]
    },
    {
      "cell_type": "markdown",
      "source": [
        "**Question 34**"
      ],
      "metadata": {
        "id": "idzToQ4tdgaq"
      }
    },
    {
      "cell_type": "code",
      "source": [
        "# Taking a dictionary input from the user\n",
        "student_marks = input(\"Enter a dictionary (e.g., {'a': 1, 'b': 2}):\")\n",
        "\n",
        "# Converting the string input to a dictionary\n",
        "user_dict = {}\n",
        "input_pairs = student_marks.strip('{}').split(',')  # Split input into key-value pairs\n",
        "\n",
        "for pair in input_pairs:\n",
        "    key, value = pair.split(':')  # Split each pair into key and value\n",
        "    user_dict[key.strip()] = int(value.strip())  # Remove spaces and convert value to int\n",
        "\n",
        "# Sorting the dictionary based on values in ascending order\n",
        "sorted_dict = dict(sorted(user_dict.items(), key=lambda x: x[1]))\n",
        "\n",
        "# Printing the sorted dictionary\n",
        "print(\"Sorted dictionary:\", sorted_dict)"
      ],
      "metadata": {
        "id": "AkQT4XzHdphD",
        "colab": {
          "base_uri": "https://localhost:8080/"
        },
        "outputId": "ebe80a5b-20b8-4657-faa2-27d3efadb874"
      },
      "execution_count": null,
      "outputs": [
        {
          "output_type": "stream",
          "name": "stdout",
          "text": [
            "Enter a dictionary (e.g., {'a': 1, 'b': 2}):Alice':85,'Eva':95,'Grace':90,'Hannah':81,'Julia':89,'Sophia':76,'Isabella':92,'Emma':88,'Olivia':94,'Mia':80\n",
            "Sorted dictionary: {\"'Sophia'\": 76, \"'Mia'\": 80, \"'Hannah'\": 81, \"Alice'\": 85, \"'Emma'\": 88, \"'Julia'\": 89, \"'Grace'\": 90, \"'Isabella'\": 92, \"'Olivia'\": 94, \"'Eva'\": 95}\n"
          ]
        }
      ]
    },
    {
      "cell_type": "markdown",
      "source": [
        "**Question 35**"
      ],
      "metadata": {
        "id": "Ffqc88mCdlak"
      }
    },
    {
      "cell_type": "code",
      "source": [
        "# Input for the original dictionary\n",
        "input_dict = input(\"Enter a dictionary (e.g., a: 1, b: 2, c: 1):\")\n",
        "\n",
        "# Converting the input string into a dictionary\n",
        "original_dict = {}\n",
        "for item in input_dict.split(','):\n",
        "    key_value = item.split(':')\n",
        "    key = key_value[0].strip()\n",
        "    value = key_value[1].strip()\n",
        "    original_dict[key] = value.strip()\n",
        "\n",
        "# Inverting the dictionary\n",
        "inverted_dict = {}\n",
        "\n",
        "for key, value in original_dict.items():\n",
        "    if value in inverted_dict:\n",
        "        inverted_dict[value].append(key)  # Append key to the list if value already exists\n",
        "    else:\n",
        "        inverted_dict[value] = [key]  # Create a new list with the key\n",
        "\n",
        "# Print the inverted dictionary\n",
        "print(inverted_dict)"
      ],
      "metadata": {
        "id": "O-tHdIh3dp6M",
        "colab": {
          "base_uri": "https://localhost:8080/"
        },
        "outputId": "17f0a0f9-6f3d-4ef7-ab6b-51fa5fcb442e"
      },
      "execution_count": null,
      "outputs": [
        {
          "output_type": "stream",
          "name": "stdout",
          "text": [
            "Enter a dictionary (e.g., a: 1, b: 2, c: 1):apple: 10, banana: 5, cherry: 20, date: 15, elderberry: 8\n",
            "{'10': ['apple'], '5': ['banana'], '20': ['cherry'], '15': ['date'], '8': ['elderberry']}\n"
          ]
        }
      ]
    }
  ]
}